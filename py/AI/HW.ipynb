{
  "nbformat": 4,
  "nbformat_minor": 0,
  "metadata": {
    "colab": {
      "name": "AI-191-15-12574.ipynb",
      "provenance": [],
      "collapsed_sections": []
    },
    "kernelspec": {
      "name": "python3",
      "display_name": "Python 3"
    }
  },
  "cells": [
    {
      "cell_type": "markdown",
      "metadata": {
        "id": "kP2-h9j_Kz2b"
      },
      "source": [
        "1. Write a function that returns the maximum of two numbers.\r\n"
      ]
    },
    {
      "cell_type": "code",
      "metadata": {
        "colab": {
          "base_uri": "https://localhost:8080/"
        },
        "id": "SS7jdnffK5pX",
        "outputId": "e8e38895-940e-4593-a34e-cb20526e1a73"
      },
      "source": [
        "def max(a,b):\r\n",
        "  if a> b:\r\n",
        "    return a\r\n",
        "  else:\r\n",
        "    return b\r\n",
        "\r\n",
        "\r\n",
        "max(11,1)\r\n"
      ],
      "execution_count": null,
      "outputs": [
        {
          "output_type": "execute_result",
          "data": {
            "text/plain": [
              "11"
            ]
          },
          "metadata": {
            "tags": []
          },
          "execution_count": 3
        }
      ]
    },
    {
      "cell_type": "markdown",
      "metadata": {
        "id": "NqDMY6N-Lb55"
      },
      "source": [
        "2. Write a function called fizz_buzz that takes a number.\r\n",
        "\r\n",
        "  \r\n",
        "\r\n",
        "1.   If the number is divisible by 3, it should return “Fizz”.\r\n",
        "2.   If it is divisible by 5, it should return “Buzz”.\r\n",
        "3.   If it is divisible by both 3 and 5, it should return “FizzBuzz”.\r\n",
        "4.   Otherwise, it should return the same number.\r\n",
        "\r\n",
        "\r\n",
        "  \r\n",
        "  \r\n",
        "  \r\n"
      ]
    },
    {
      "cell_type": "code",
      "metadata": {
        "colab": {
          "base_uri": "https://localhost:8080/"
        },
        "id": "Ccqi1POjLxLI",
        "outputId": "64e0cb17-ce8e-4910-cdc3-826c9d6aa764"
      },
      "source": [
        "def fizz_buzz(a):\r\n",
        "  if a % 3==0 and a % 5 == 0:\r\n",
        "    print(\"FIzzBuzz\")\r\n",
        "  elif a % 3 == 0:\r\n",
        "    print(\"FIzz\")\r\n",
        "  elif a % 3 == 0:\r\n",
        "    print(\"Buzz\")\r\n",
        "  else:\r\n",
        "    return a\r\n",
        "\r\n",
        "\r\n",
        "fizz_buzz(15)"
      ],
      "execution_count": null,
      "outputs": [
        {
          "output_type": "stream",
          "text": [
            "FIzzBuzz\n"
          ],
          "name": "stdout"
        }
      ]
    },
    {
      "cell_type": "markdown",
      "metadata": {
        "id": "SiosRAJ-N050"
      },
      "source": [
        "3. Write a function for checking the speed of drivers. This function should have one parameter: speed.\r\n",
        "\r\n",
        "\r\n",
        "\r\n",
        "\r\n",
        "*   If speed is less than 70, it should print “Ok”.\r\n",
        "*   Otherwise, for every 5km above the speed limit (70), it should give the driver one demerit point and print the total number of demerit points. For example, if the speed is 80, it should print: “Points: 2”.\r\n",
        "\r\n",
        "*   If the driver gets more than 12 points, the function should print: “License suspended”\r\n",
        "\r\n",
        "\r\n",
        "\r\n"
      ]
    },
    {
      "cell_type": "code",
      "metadata": {
        "colab": {
          "base_uri": "https://localhost:8080/"
        },
        "id": "rGv8jyX_ORQD",
        "outputId": "db2afab3-2217-486d-9b9c-681a8cbd8f71"
      },
      "source": [
        "def checkspeed(speed):\r\n",
        "  #demerit = (speed - 70)//5\r\n",
        "  if speed <= 70:\r\n",
        "    print(\"Ok\")\r\n",
        "  else:\r\n",
        "    points = (speed - 70) // 5\r\n",
        "    if points <= 12:\r\n",
        "      print(f\"{points}\")\r\n",
        "    else:\r\n",
        "      print(\"Licence Suspended\")\r\n",
        "\r\n",
        "\r\n",
        "checkspeed(330)"
      ],
      "execution_count": null,
      "outputs": [
        {
          "output_type": "stream",
          "text": [
            "Licence Suspended\n"
          ],
          "name": "stdout"
        }
      ]
    },
    {
      "cell_type": "markdown",
      "metadata": {
        "id": "9L1Er4CrORp6"
      },
      "source": [
        "4. Write a function called showNumbers that takes a parameter called limit. It should print all the numbers between 0 and limit with a label to identify the even and odd numbers. For example, if the limit is 3, it should print:\r\n",
        "\r\n",
        "* 0 EVEN\r\n",
        "* 1 ODD\r\n",
        "* 2 EVEN\r\n",
        "* 3 ODD\r\n",
        "\r\n",
        "\r\n",
        "\r\n"
      ]
    },
    {
      "cell_type": "code",
      "metadata": {
        "id": "gVKSYOa2OihC",
        "colab": {
          "base_uri": "https://localhost:8080/"
        },
        "outputId": "39fcbcd3-9f37-4b3a-bc8c-2c60c252af1e"
      },
      "source": [
        "def showNumbers(limit):\r\n",
        "  for i in range(0,limit+1):\r\n",
        "    if i % 2== 0:\r\n",
        "      print(f\"{i} Even\")\r\n",
        "    else:\r\n",
        "      print(f\"{i} Odd\")\r\n",
        "\r\n",
        "showNumbers(3)\r\n"
      ],
      "execution_count": null,
      "outputs": [
        {
          "output_type": "stream",
          "text": [
            "0 Even\n",
            "1 Odd\n",
            "2 Even\n",
            "3 Odd\n"
          ],
          "name": "stdout"
        }
      ]
    },
    {
      "cell_type": "markdown",
      "metadata": {
        "id": "UACriha4OnGN"
      },
      "source": [
        "5. Write a function that returns the sum of multiples of 3 and 5 between 0 and limit (parameter). For example, if limit is 20, it should return the sum of 3, 5, 6, 9, 10, 12, 15, 18, 20.\r\n"
      ]
    },
    {
      "cell_type": "code",
      "metadata": {
        "id": "pqqnu5XuOqdw",
        "colab": {
          "base_uri": "https://localhost:8080/"
        },
        "outputId": "95383737-5299-4d13-c91e-a0d1e9d04922"
      },
      "source": [
        "def sum_of_mul(limit):\r\n",
        "  sum = 0\r\n",
        "  for i in range(0,limit+1):\r\n",
        "    if i % 3== 0 or i % 5 == 0:\r\n",
        "      sum = sum + i\r\n",
        "      print(sum)\r\n",
        "\r\n",
        "sum_of_mul(20)\r\n"
      ],
      "execution_count": null,
      "outputs": [
        {
          "output_type": "stream",
          "text": [
            "0\n",
            "3\n",
            "8\n",
            "14\n",
            "23\n",
            "33\n",
            "45\n",
            "60\n",
            "78\n",
            "98\n"
          ],
          "name": "stdout"
        }
      ]
    },
    {
      "cell_type": "markdown",
      "metadata": {
        "id": "H4kjYbqFOyL3"
      },
      "source": [
        "6. Write a function called show_stars(rows). If rows is 5, it should print the following:\r\n",
        "\r\n",
        "#*\r\n",
        "#**\r\n",
        "#***\r\n",
        "#****\r\n",
        "#*****\r\n"
      ]
    },
    {
      "cell_type": "code",
      "metadata": {
        "id": "OJTBRBYVO4KH",
        "colab": {
          "base_uri": "https://localhost:8080/"
        },
        "outputId": "4ac4d08c-b1ca-4bc5-a276-cfabf93b698d"
      },
      "source": [
        "def show_star(rows):\r\n",
        "  for i in range(0,rows+1):\r\n",
        "    print(\"*\"*i)\r\n",
        "\r\n",
        "\r\n",
        "\r\n",
        "show_star(5)"
      ],
      "execution_count": null,
      "outputs": [
        {
          "output_type": "stream",
          "text": [
            "\n",
            "*\n",
            "**\n",
            "***\n",
            "****\n",
            "*****\n"
          ],
          "name": "stdout"
        }
      ]
    },
    {
      "cell_type": "markdown",
      "metadata": {
        "id": "NXYeCjaqO4UW"
      },
      "source": [
        "7. Write a function that prints all the prime numbers between 0 and limit where limit is a parameter.\r\n"
      ]
    },
    {
      "cell_type": "code",
      "metadata": {
        "id": "hgoY3ybZO81B",
        "colab": {
          "base_uri": "https://localhost:8080/"
        },
        "outputId": "88184e8b-53cf-45bc-cdf6-24d0fe1da3d9"
      },
      "source": [
        "def check_prime(limit):\r\n",
        "  for i in range(0,limit+1):\r\n",
        "    if i % 2  == 1:\r\n",
        "      print(f\"{i}  is Prime\")\r\n",
        "\r\n",
        "check_prime(15)\r\n"
      ],
      "execution_count": null,
      "outputs": [
        {
          "output_type": "stream",
          "text": [
            "1 is Prime\n",
            "3 is Prime\n",
            "5 is Prime\n",
            "7 is Prime\n",
            "9 is Prime\n",
            "11 is Prime\n",
            "13 is Prime\n",
            "15 is Prime\n"
          ],
          "name": "stdout"
        }
      ]
    },
    {
      "cell_type": "markdown",
      "metadata": {
        "id": "jz2BIPdnO9aP"
      },
      "source": [
        "8. Create a function that returns the indices of all occurrences of an item in the list.\r\n",
        "* Sample input -> output\r\n",
        "* get_indices([\"a\", \"a\", \"b\", \"a\", \"b\", \"a\"], \"a\") ➞ [0, 1, 3, 5]\r\n",
        "* get_indices([1, 5, 5, 2, 7], 7) ➞ [4]\r\n",
        "* get_indices([1, 5, 5, 2, 7], 5) ➞ [1, 2]\r\n",
        "* get_indices([1, 5, 5, 2, 7], 8) ➞ []\r\n"
      ]
    },
    {
      "cell_type": "code",
      "metadata": {
        "id": "9wmISR_6PAP0",
        "colab": {
          "base_uri": "https://localhost:8080/"
        },
        "outputId": "93f4dc26-59b9-49fc-f33c-9f3a98a23063"
      },
      "source": [
        "def in_of_oc(num,oc):\r\n",
        "  list_oc = []\r\n",
        "  for i in range(len(num)):\r\n",
        "    if num[i] == oc:\r\n",
        "      list_oc.append(i)\r\n",
        "  print(list_oc)\r\n",
        "\r\n",
        "\r\n",
        "\r\n",
        "input_list = input().split()\r\n",
        "search = input()\r\n",
        "in_of_oc(input_list,search)\r\n"
      ],
      "execution_count": null,
      "outputs": [
        {
          "output_type": "stream",
          "text": [
            "a a v a b a\n",
            "a\n",
            "[0, 1, 3, 5]\n"
          ],
          "name": "stdout"
        }
      ]
    },
    {
      "cell_type": "markdown",
      "metadata": {
        "id": "HdQJb5qdPcZX"
      },
      "source": [
        "9. Create a function that, given a number, returns the corresponding Fibonacci number. \r\n"
      ]
    },
    {
      "cell_type": "code",
      "metadata": {
        "id": "y-5yTZ-gPfoR",
        "colab": {
          "base_uri": "https://localhost:8080/"
        },
        "outputId": "8047c23e-7422-49eb-ab40-316b4604c42b"
      },
      "source": [
        "\r\n",
        "def fab(num):\r\n",
        "  f = [0,1]\r\n",
        "  for i in range(2, n+1):\r\n",
        "    f.append(f[i-1] + f[i-2])\r\n",
        "  return f[n]\r\n",
        "\r\n",
        "\r\n",
        "n = int(input())\r\n",
        "fab(n)"
      ],
      "execution_count": null,
      "outputs": [
        {
          "output_type": "stream",
          "text": [
            "9\n"
          ],
          "name": "stdout"
        },
        {
          "output_type": "execute_result",
          "data": {
            "text/plain": [
              "34"
            ]
          },
          "metadata": {
            "tags": []
          },
          "execution_count": 41
        }
      ]
    },
    {
      "cell_type": "markdown",
      "metadata": {
        "id": "e6SIp1P4Pfyf"
      },
      "source": [
        "10. You are given one input: A list containing eight 1's and/or 0's. Write a function that takes an 8 bit binary number and convert it to decimal.\r\n",
        "\r\n",
        "* Sample input -> output\r\n",
        "* binary_to_decimal([1, 1, 1, 1, 1, 1, 1, 1]) ➞ 255\r\n",
        "* binary_to_decimal([0, 0, 0, 0, 0, 0, 0, 0]) ➞ 0\r\n",
        "* binary_to_decimal([1, 0, 1, 1, 1, 1, 0, 0]) ➞ 188\r\n"
      ]
    },
    {
      "cell_type": "code",
      "metadata": {
        "id": "bh2V4vHRP8Kw",
        "colab": {
          "base_uri": "https://localhost:8080/"
        },
        "outputId": "6a9494da-959c-49ab-ac50-1859e2cee050"
      },
      "source": [
        "def bi_to_de(binary):\r\n",
        "  decimal = 0\r\n",
        "  for n in binary:\r\n",
        "    decimal = decimal *2 + int(digit)\r\n",
        "  return decimal\r\n",
        "\r\n",
        "binary = input(\"Enter 8 digit Binary Number: \").split()\r\n",
        "\r\n",
        "bi_to_de(binary)"
      ],
      "execution_count": null,
      "outputs": [
        {
          "output_type": "stream",
          "text": [
            "Enter 8 digit Binary Number: 1 1 1 1 1 1 1 1\n"
          ],
          "name": "stdout"
        },
        {
          "output_type": "execute_result",
          "data": {
            "text/plain": [
              "255"
            ]
          },
          "metadata": {
            "tags": []
          },
          "execution_count": 27
        }
      ]
    }
  ]
}